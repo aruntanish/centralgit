{
 "cells": [
  {
   "cell_type": "markdown",
   "id": "b1c33fcb",
   "metadata": {},
   "source": [
    "def class student:\n",
    "    name='arun'\n",
    "    roll=1"
   ]
  },
  {
   "cell_type": "code",
   "execution_count": null,
   "id": "4a1193e1",
   "metadata": {},
   "outputs": [],
   "source": []
  },
  {
   "cell_type": "code",
   "execution_count": 1,
   "id": "6386aee7",
   "metadata": {},
   "outputs": [
    {
     "ename": "NameError",
     "evalue": "name 's1' is not defined",
     "output_type": "error",
     "traceback": [
      "\u001b[1;31m---------------------------------------------------------------------------\u001b[0m",
      "\u001b[1;31mNameError\u001b[0m                                 Traceback (most recent call last)",
      "Cell \u001b[1;32mIn[1], line 1\u001b[0m\n\u001b[1;32m----> 1\u001b[0m s1\u001b[38;5;241m.\u001b[39mstudent()\n",
      "\u001b[1;31mNameError\u001b[0m: name 's1' is not defined"
     ]
    }
   ],
   "source": [
    "s1.student()"
   ]
  },
  {
   "cell_type": "code",
   "execution_count": 2,
   "id": "b9de972e",
   "metadata": {},
   "outputs": [
    {
     "ename": "NameError",
     "evalue": "name 'student' is not defined",
     "output_type": "error",
     "traceback": [
      "\u001b[1;31m---------------------------------------------------------------------------\u001b[0m",
      "\u001b[1;31mNameError\u001b[0m                                 Traceback (most recent call last)",
      "Cell \u001b[1;32mIn[2], line 1\u001b[0m\n\u001b[1;32m----> 1\u001b[0m s1\u001b[38;5;241m=\u001b[39mstudent()\n",
      "\u001b[1;31mNameError\u001b[0m: name 'student' is not defined"
     ]
    }
   ],
   "source": [
    "s1=student()"
   ]
  },
  {
   "cell_type": "code",
   "execution_count": 3,
   "id": "6d75fd52",
   "metadata": {},
   "outputs": [
    {
     "ename": "SyntaxError",
     "evalue": "expected '(' (3891943512.py, line 1)",
     "output_type": "error",
     "traceback": [
      "\u001b[1;36m  Cell \u001b[1;32mIn[3], line 1\u001b[1;36m\u001b[0m\n\u001b[1;33m    def student:\u001b[0m\n\u001b[1;37m               ^\u001b[0m\n\u001b[1;31mSyntaxError\u001b[0m\u001b[1;31m:\u001b[0m expected '('\n"
     ]
    }
   ],
   "source": [
    "def student:\n",
    "    name = 'arun'\n",
    "    roll=1\n"
   ]
  },
  {
   "cell_type": "code",
   "execution_count": 4,
   "id": "1d60ea65",
   "metadata": {},
   "outputs": [
    {
     "ename": "NameError",
     "evalue": "name 'student' is not defined",
     "output_type": "error",
     "traceback": [
      "\u001b[1;31m---------------------------------------------------------------------------\u001b[0m",
      "\u001b[1;31mNameError\u001b[0m                                 Traceback (most recent call last)",
      "Cell \u001b[1;32mIn[4], line 5\u001b[0m\n\u001b[0;32m      2\u001b[0m     name\u001b[38;5;241m=\u001b[39m\u001b[38;5;124m'\u001b[39m\u001b[38;5;124marun\u001b[39m\u001b[38;5;124m'\u001b[39m\n\u001b[0;32m      3\u001b[0m     roll\u001b[38;5;241m=\u001b[39m\u001b[38;5;241m100\u001b[39m\n\u001b[1;32m----> 5\u001b[0m s1\u001b[38;5;241m=\u001b[39mstudent()\n\u001b[0;32m      6\u001b[0m s1\u001b[38;5;241m.\u001b[39mname\n",
      "\u001b[1;31mNameError\u001b[0m: name 'student' is not defined"
     ]
    }
   ],
   "source": [
    "class Student:\n",
    "    name='arun'\n",
    "    roll=100\n",
    "\n",
    "s1=student()\n",
    "s1.name\n",
    "\n"
   ]
  },
  {
   "cell_type": "markdown",
   "id": "83e3ccf1",
   "metadata": {},
   "source": [
    "s1.Student()"
   ]
  },
  {
   "cell_type": "code",
   "execution_count": 5,
   "id": "a50bf4c6",
   "metadata": {},
   "outputs": [
    {
     "ename": "NameError",
     "evalue": "name 's1' is not defined",
     "output_type": "error",
     "traceback": [
      "\u001b[1;31m---------------------------------------------------------------------------\u001b[0m",
      "\u001b[1;31mNameError\u001b[0m                                 Traceback (most recent call last)",
      "Cell \u001b[1;32mIn[5], line 1\u001b[0m\n\u001b[1;32m----> 1\u001b[0m s1\u001b[38;5;241m.\u001b[39mname()\n",
      "\u001b[1;31mNameError\u001b[0m: name 's1' is not defined"
     ]
    }
   ],
   "source": [
    "s1.name()"
   ]
  },
  {
   "cell_type": "code",
   "execution_count": 6,
   "id": "17bbbd4c",
   "metadata": {},
   "outputs": [
    {
     "ename": "NameError",
     "evalue": "name 'S1' is not defined",
     "output_type": "error",
     "traceback": [
      "\u001b[1;31m---------------------------------------------------------------------------\u001b[0m",
      "\u001b[1;31mNameError\u001b[0m                                 Traceback (most recent call last)",
      "Cell \u001b[1;32mIn[6], line 1\u001b[0m\n\u001b[1;32m----> 1\u001b[0m S1\u001b[38;5;241m.\u001b[39mname()\n",
      "\u001b[1;31mNameError\u001b[0m: name 'S1' is not defined"
     ]
    }
   ],
   "source": [
    "S1.name()"
   ]
  },
  {
   "cell_type": "code",
   "execution_count": 7,
   "id": "02b06752",
   "metadata": {},
   "outputs": [
    {
     "name": "stdout",
     "output_type": "stream",
     "text": [
      "tanish\n"
     ]
    }
   ],
   "source": [
    "class arun:\n",
    "    name=\"tanish\"\n",
    "    last=\"suri\"\n",
    "    age=7\n",
    "\n",
    "family=arun()\n",
    "print(family.name)"
   ]
  },
  {
   "cell_type": "code",
   "execution_count": 8,
   "id": "91d02f7d",
   "metadata": {},
   "outputs": [
    {
     "name": "stdout",
     "output_type": "stream",
     "text": [
      "7\n"
     ]
    }
   ],
   "source": [
    "print(family.age)"
   ]
  },
  {
   "cell_type": "code",
   "execution_count": 9,
   "id": "bac44c24",
   "metadata": {},
   "outputs": [],
   "source": [
    "happy=arun()"
   ]
  },
  {
   "cell_type": "code",
   "execution_count": 10,
   "id": "0c3d57f5",
   "metadata": {},
   "outputs": [
    {
     "data": {
      "text/plain": [
       "'tanish'"
      ]
     },
     "execution_count": 10,
     "metadata": {},
     "output_type": "execute_result"
    }
   ],
   "source": [
    "happy.name"
   ]
  },
  {
   "cell_type": "code",
   "execution_count": 11,
   "id": "4271eb0c",
   "metadata": {},
   "outputs": [
    {
     "data": {
      "text/plain": [
       "7"
      ]
     },
     "execution_count": 11,
     "metadata": {},
     "output_type": "execute_result"
    }
   ],
   "source": [
    "happy.age"
   ]
  },
  {
   "cell_type": "code",
   "execution_count": 12,
   "id": "491954c1",
   "metadata": {},
   "outputs": [],
   "source": [
    "class student:\n",
    "    def save(self,name,roll):\n",
    "        self.name=name\n",
    "        self.roll=roll\n",
    "\n",
    "        "
   ]
  },
  {
   "cell_type": "code",
   "execution_count": 13,
   "id": "b6d870e5",
   "metadata": {},
   "outputs": [],
   "source": [
    "s1=student()\n",
    "s2=student()\n",
    "s3=student()"
   ]
  },
  {
   "cell_type": "code",
   "execution_count": 14,
   "id": "0b63b238",
   "metadata": {},
   "outputs": [
    {
     "ename": "AttributeError",
     "evalue": "'student' object has no attribute 'name'",
     "output_type": "error",
     "traceback": [
      "\u001b[1;31m---------------------------------------------------------------------------\u001b[0m",
      "\u001b[1;31mAttributeError\u001b[0m                            Traceback (most recent call last)",
      "Cell \u001b[1;32mIn[14], line 1\u001b[0m\n\u001b[1;32m----> 1\u001b[0m s1\u001b[38;5;241m.\u001b[39mname\n",
      "\u001b[1;31mAttributeError\u001b[0m: 'student' object has no attribute 'name'"
     ]
    }
   ],
   "source": [
    "s1.name"
   ]
  },
  {
   "cell_type": "code",
   "execution_count": 15,
   "id": "06165bb6",
   "metadata": {},
   "outputs": [],
   "source": [
    "s1.save('arun',1)\n"
   ]
  },
  {
   "cell_type": "code",
   "execution_count": 16,
   "id": "ae405fd5",
   "metadata": {},
   "outputs": [],
   "source": [
    "s2.save('komal',2)"
   ]
  },
  {
   "cell_type": "code",
   "execution_count": 17,
   "id": "02db3337",
   "metadata": {},
   "outputs": [],
   "source": [
    "s3.save('tanish',3)"
   ]
  },
  {
   "cell_type": "code",
   "execution_count": 18,
   "id": "45696bcd",
   "metadata": {},
   "outputs": [
    {
     "data": {
      "text/plain": [
       "'arun'"
      ]
     },
     "execution_count": 18,
     "metadata": {},
     "output_type": "execute_result"
    }
   ],
   "source": [
    "s1.name"
   ]
  },
  {
   "cell_type": "code",
   "execution_count": 19,
   "id": "f907f355",
   "metadata": {},
   "outputs": [
    {
     "data": {
      "text/plain": [
       "<bound method student.save of <__main__.student object at 0x000001DA116430D0>>"
      ]
     },
     "execution_count": 19,
     "metadata": {},
     "output_type": "execute_result"
    }
   ],
   "source": [
    "s1.save"
   ]
  },
  {
   "cell_type": "code",
   "execution_count": 20,
   "id": "dd02651f",
   "metadata": {},
   "outputs": [
    {
     "data": {
      "text/plain": [
       "1"
      ]
     },
     "execution_count": 20,
     "metadata": {},
     "output_type": "execute_result"
    }
   ],
   "source": [
    "s1.roll"
   ]
  },
  {
   "cell_type": "code",
   "execution_count": 21,
   "id": "e5d0a5de",
   "metadata": {},
   "outputs": [
    {
     "data": {
      "text/plain": [
       "'tanish'"
      ]
     },
     "execution_count": 21,
     "metadata": {},
     "output_type": "execute_result"
    }
   ],
   "source": [
    "s3.name"
   ]
  },
  {
   "cell_type": "code",
   "execution_count": 22,
   "id": "1ac9cbb4",
   "metadata": {},
   "outputs": [
    {
     "data": {
      "text/plain": [
       "'komal'"
      ]
     },
     "execution_count": 22,
     "metadata": {},
     "output_type": "execute_result"
    }
   ],
   "source": [
    "s2.name"
   ]
  },
  {
   "cell_type": "code",
   "execution_count": 2,
   "id": "11becca0",
   "metadata": {},
   "outputs": [],
   "source": [
    "class Grandfather:\n",
    "    def abc(self):\n",
    "        print('I am inside Grand father class')\n",
    "\n",
    "class father:\n",
    "    def xyz(self):\n",
    "        print('I am inside father class')\n",
    "\n",
    "class son:\n",
    "    def iop(self):\n",
    "        print('I am inside son')"
   ]
  },
  {
   "cell_type": "code",
   "execution_count": null,
   "id": "bdab2b4c",
   "metadata": {},
   "outputs": [],
   "source": []
  },
  {
   "cell_type": "code",
   "execution_count": null,
   "id": "6c17b99f",
   "metadata": {},
   "outputs": [],
   "source": []
  },
  {
   "cell_type": "code",
   "execution_count": null,
   "id": "810c7d20",
   "metadata": {},
   "outputs": [],
   "source": []
  },
  {
   "cell_type": "code",
   "execution_count": null,
   "id": "cbc4ff29",
   "metadata": {},
   "outputs": [],
   "source": []
  },
  {
   "cell_type": "code",
   "execution_count": null,
   "id": "f6d02d1a",
   "metadata": {},
   "outputs": [],
   "source": []
  },
  {
   "cell_type": "code",
   "execution_count": 3,
   "id": "100bcede",
   "metadata": {},
   "outputs": [
    {
     "name": "stdout",
     "output_type": "stream",
     "text": [
      "hello\n"
     ]
    }
   ],
   "source": [
    "print('hello')"
   ]
  },
  {
   "cell_type": "code",
   "execution_count": 4,
   "id": "67368180",
   "metadata": {},
   "outputs": [],
   "source": [
    "class parent:\n",
    "    def fun1(self):\n",
    "        print('I am using parent class')\n"
   ]
  },
  {
   "cell_type": "code",
   "execution_count": 5,
   "id": "416811f2",
   "metadata": {},
   "outputs": [],
   "source": [
    "class child1(parent):\n",
    "    def fun2(self):\n",
    "        print('i am child 1')\n",
    "        \n",
    "class child2(parent):\n",
    "    def fun3(self):\n",
    "        print('i am child 2')\n",
    "        \n"
   ]
  },
  {
   "cell_type": "code",
   "execution_count": null,
   "id": "00dce190",
   "metadata": {},
   "outputs": [],
   "source": []
  },
  {
   "cell_type": "code",
   "execution_count": 6,
   "id": "45022a6b",
   "metadata": {},
   "outputs": [],
   "source": [
    "obj1=child1()\n",
    "obj2=child2()"
   ]
  },
  {
   "cell_type": "code",
   "execution_count": 7,
   "id": "dab00a9e",
   "metadata": {},
   "outputs": [
    {
     "name": "stdout",
     "output_type": "stream",
     "text": [
      "i am child 1\n"
     ]
    }
   ],
   "source": [
    "obj1.fun2()"
   ]
  },
  {
   "cell_type": "code",
   "execution_count": 8,
   "id": "80a23305",
   "metadata": {},
   "outputs": [
    {
     "name": "stdout",
     "output_type": "stream",
     "text": [
      "I am using parent class\n"
     ]
    }
   ],
   "source": [
    "obj1.fun1()"
   ]
  },
  {
   "cell_type": "code",
   "execution_count": 9,
   "id": "c9c0d30e",
   "metadata": {},
   "outputs": [
    {
     "name": "stdout",
     "output_type": "stream",
     "text": [
      "i am child 2\n",
      "I am using parent class\n"
     ]
    }
   ],
   "source": [
    "obj2.fun3()\n",
    "obj2.fun1()"
   ]
  },
  {
   "cell_type": "code",
   "execution_count": 10,
   "id": "bc3f954d",
   "metadata": {},
   "outputs": [
    {
     "name": "stdout",
     "output_type": "stream",
     "text": [
      "I am using parent class\n"
     ]
    }
   ],
   "source": [
    "pobj=parent()\n",
    "pobj.fun1()"
   ]
  },
  {
   "cell_type": "code",
   "execution_count": 11,
   "id": "89b9438d",
   "metadata": {},
   "outputs": [
    {
     "ename": "AttributeError",
     "evalue": "'parent' object has no attribute 'fun2'",
     "output_type": "error",
     "traceback": [
      "\u001b[1;31m---------------------------------------------------------------------------\u001b[0m",
      "\u001b[1;31mAttributeError\u001b[0m                            Traceback (most recent call last)",
      "Cell \u001b[1;32mIn[11], line 1\u001b[0m\n\u001b[1;32m----> 1\u001b[0m pobj\u001b[38;5;241m.\u001b[39mfun2()\n",
      "\u001b[1;31mAttributeError\u001b[0m: 'parent' object has no attribute 'fun2'"
     ]
    }
   ],
   "source": [
    "pobj.fun2()"
   ]
  },
  {
   "cell_type": "code",
   "execution_count": null,
   "id": "96f09eb4",
   "metadata": {},
   "outputs": [],
   "source": []
  }
 ],
 "metadata": {
  "kernelspec": {
   "display_name": "Python 3 (ipykernel)",
   "language": "python",
   "name": "python3"
  },
  "language_info": {
   "codemirror_mode": {
    "name": "ipython",
    "version": 3
   },
   "file_extension": ".py",
   "mimetype": "text/x-python",
   "name": "python",
   "nbconvert_exporter": "python",
   "pygments_lexer": "ipython3",
   "version": "3.11.4"
  }
 },
 "nbformat": 4,
 "nbformat_minor": 5
}
